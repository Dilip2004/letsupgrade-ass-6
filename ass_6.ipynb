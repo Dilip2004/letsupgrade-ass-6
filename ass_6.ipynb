{
  "nbformat": 4,
  "nbformat_minor": 0,
  "metadata": {
    "colab": {
      "name": "ass-6.ipynb",
      "provenance": []
    },
    "kernelspec": {
      "name": "python3",
      "display_name": "Python 3"
    }
  },
  "cells": [
    {
      "cell_type": "code",
      "metadata": {
        "id": "lm7LxDMcQZKh",
        "colab_type": "code",
        "colab": {
          "base_uri": "https://localhost:8080/",
          "height": 34
        },
        "outputId": "6703b15e-d28e-498d-aa4d-29bbc42c1cf9"
      },
      "source": [
        "#list1=[1,2,3,4,5,7,8]\n",
        "#list2=[\"a\",\"b\",\"c\",\"d\",\"e\"]\n",
        "\n",
        "#initializing lists\n",
        "\n",
        "keys = [1,2,3,4,5,7,8]\n",
        "values = [\"a\",\"b\",\"c\",\"d\",\"e\"]\n",
        "#to convert list into dictionary\n",
        "\n",
        "res = {} \n",
        "for key in keys: \n",
        "    for value in values: \n",
        "        res[key] = value \n",
        "        values.remove(value) \n",
        "        break  \n",
        "#print dictionary\n",
        "\n",
        "print (\"dict : \" +  str(res)) "
      ],
      "execution_count": 1,
      "outputs": [
        {
          "output_type": "stream",
          "text": [
            "dict : {1: 'a', 2: 'b', 3: 'c', 4: 'd', 5: 'e'}\n"
          ],
          "name": "stdout"
        }
      ]
    }
  ]
}